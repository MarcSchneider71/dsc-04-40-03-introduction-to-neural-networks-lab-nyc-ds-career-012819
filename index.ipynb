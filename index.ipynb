{
 "cells": [
  {
   "cell_type": "markdown",
   "metadata": {},
   "source": [
    "# Introduction to Neural Networks - Lab"
   ]
  },
  {
   "cell_type": "markdown",
   "metadata": {},
   "source": [
    "## Introduction"
   ]
  },
  {
   "cell_type": "markdown",
   "metadata": {},
   "source": [
    "Congratulations, you made it to your first lab! In this lab, you'll practice everything you have learned during the lecture. We know there is quite a bit of math involved, but don't worry! Using Python and trying things out yourself will actually make a lot of things much more clear! Before we start, let's load some necessary libraries so we can import our data."
   ]
  },
  {
   "cell_type": "markdown",
   "metadata": {},
   "source": [
    "## Objectives\n",
    "\n",
    "You will be able to:\n",
    "* Import images using Keras\n",
    "* Build a simple neural network"
   ]
  },
  {
   "cell_type": "markdown",
   "metadata": {},
   "source": [
    "As usual, we'll start by importing the necessary packages that we'll use in this lab."
   ]
  },
  {
   "cell_type": "code",
   "execution_count": 5,
   "metadata": {},
   "outputs": [],
   "source": [
    "from keras.preprocessing.image import ImageDataGenerator, array_to_img, img_to_array, load_img\n",
    "import numpy as np\n",
    "import os"
   ]
  },
  {
   "cell_type": "code",
   "execution_count": 11,
   "metadata": {},
   "outputs": [
    {
     "name": "stdout",
     "output_type": "stream",
     "text": [
      "Collecting package metadata: done\n",
      "Solving environment: done\n",
      "\n",
      "\n",
      "==> WARNING: A newer version of conda exists. <==\n",
      "  current version: 4.6.7\n",
      "  latest version: 4.6.11\n",
      "\n",
      "Please update conda by running\n",
      "\n",
      "    $ conda update -n base conda\n",
      "\n",
      "\n",
      "\n",
      "## Package Plan ##\n",
      "\n",
      "  environment location: /opt/conda/envs/learn-env\n",
      "\n",
      "  added / updated specs:\n",
      "    - pil\n",
      "\n",
      "\n",
      "The following packages will be downloaded:\n",
      "\n",
      "    package                    |            build\n",
      "    ---------------------------|-----------------\n",
      "    alembic-1.0.8              |             py_0         106 KB  conda-forge\n",
      "    asn1crypto-0.24.0          |        py27_1003         154 KB  conda-forge\n",
      "    backcall-0.1.0             |             py_0          13 KB  conda-forge\n",
      "    backports-1.0              |             py_2           4 KB  conda-forge\n",
      "    backports.functools_lru_cache-1.5|             py_1           6 KB  conda-forge\n",
      "    backports.shutil_get_terminal_size-1.0.0|             py_3           7 KB  conda-forge\n",
      "    backports_abc-0.5          |             py_1           5 KB  conda-forge\n",
      "    beautifulsoup4-4.7.1       |        py27_1001         136 KB  conda-forge\n",
      "    bleach-3.1.0               |             py_0         110 KB  conda-forge\n",
      "    boto-2.49.0                |             py_0         838 KB  conda-forge\n",
      "    bz2file-0.98               |             py_0           9 KB  conda-forge\n",
      "    cairo-1.14.8               |                0         609 KB  defaults\n",
      "    certifi-2019.3.9           |           py27_0         149 KB  conda-forge\n",
      "    cffi-1.11.5                |py27h9745a5d_1001         207 KB  conda-forge\n",
      "    chardet-3.0.4              |        py27_1003         180 KB  conda-forge\n",
      "    configparser-3.7.3         |           py27_1          36 KB  conda-forge\n",
      "    cryptography-2.3.1         |py27hb7f436b_1000         584 KB  conda-forge\n",
      "    cryptography-vectors-2.3.1 |        py27_1000        30.5 MB  conda-forge\n",
      "    cycler-0.10.0              |             py_1           8 KB  conda-forge\n",
      "    cython-0.28.5              |py27hf484d3e_1000         3.2 MB  conda-forge\n",
      "    decorator-4.3.0            |             py_0          10 KB  conda-forge\n",
      "    defusedxml-0.5.0           |             py_1          20 KB  conda-forge\n",
      "    docutils-0.14              |        py27_1001         706 KB  conda-forge\n",
      "    entrypoints-0.3            |        py27_1000          13 KB  conda-forge\n",
      "    enum34-1.1.6               |        py27_1001          56 KB  conda-forge\n",
      "    fontconfig-2.12.1          |                3         429 KB  defaults\n",
      "    freetype-2.5.5             |                2         2.5 MB  defaults\n",
      "    functools32-3.2.3.2        |             py_3          15 KB  conda-forge\n",
      "    futures-3.2.0              |        py27_1000          24 KB  conda-forge\n",
      "    gensim-3.4.0               |           py27_0        22.2 MB  conda-forge\n",
      "    h5py-2.9.0                 |nompi_py27hf008753_1102         1.1 MB  conda-forge\n",
      "    idna-2.7                   |        py27_1002         131 KB  conda-forge\n",
      "    ipaddress-1.0.22           |             py_1          18 KB  conda-forge\n",
      "    ipykernel-4.10.0           |           py27_1         144 KB  conda-forge\n",
      "    ipython-5.8.0              |           py27_0         1.0 MB  conda-forge\n",
      "    ipython_genutils-0.2.0     |             py_1          21 KB  conda-forge\n",
      "    jbig-2.1                   |    h14c3975_2001          40 KB  conda-forge\n",
      "    jedi-0.12.1                |           py27_0         222 KB  conda-forge\n",
      "    jinja2-2.10.1              |             py_0          91 KB  conda-forge\n",
      "    jmespath-0.9.4             |             py_0          20 KB  conda-forge\n",
      "    jpeg-8d                    |                2         806 KB  defaults\n",
      "    jsonschema-2.6.0           |        py27_1002          61 KB  conda-forge\n",
      "    jupyter_client-5.2.4       |             py_3          63 KB  conda-forge\n",
      "    jupyter_core-4.4.0         |             py_0          44 KB  conda-forge\n",
      "    jupyterlab-0.31.12         |           py27_1         8.5 MB  conda-forge\n",
      "    jupyterlab_launcher-0.10.5 |           py27_0          24 KB  conda-forge\n",
      "    kiwisolver-1.0.1           |py27h6bb024c_1002          86 KB  conda-forge\n",
      "    lcms-1.19                  |                0         595 KB  defaults\n",
      "    libiconv-1.14              |                4         2.0 MB  conda-forge\n",
      "    libtiff-4.0.6              |                2         1.5 MB  defaults\n",
      "    linecache2-1.0.0           |             py_1          13 KB  conda-forge\n",
      "    mako-1.0.7                 |             py_1          57 KB  conda-forge\n",
      "    markupsafe-1.1.1           |   py27h14c3975_0          25 KB  conda-forge\n",
      "    matplotlib-1.5.1           |      np111py27_0         8.4 MB  defaults\n",
      "    mistune-0.8.4              |py27h14c3975_1000          52 KB  conda-forge\n",
      "    mkl_fft-1.0.11             |   py27h14c3975_0         159 KB  conda-forge\n",
      "    mkl_random-1.0.2           |   py27h637b7d7_2         331 KB  conda-forge\n",
      "    nb_conda-2.2.1             |           py27_2          35 KB  conda-forge\n",
      "    nb_conda_kernels-2.2.1     |           py27_0          31 KB  conda-forge\n",
      "    nbconvert-5.4.1            |             py_2         332 KB  conda-forge\n",
      "    nbformat-4.4.0             |             py_1          91 KB  conda-forge\n",
      "    networkx-2.2               |             py_1         1.1 MB  conda-forge\n",
      "    nltk-3.4                   |           py27_1         2.1 MB  defaults\n",
      "    notebook-5.2.2             |           py27_1         6.6 MB  conda-forge\n",
      "    numpy-1.11.3               |  py27h7e9f1db_12          16 KB  defaults\n",
      "    numpy-base-1.11.3          |  py27hde5b4d6_12         3.5 MB  defaults\n",
      "    pamela-1.0.0               |             py_0           9 KB  conda-forge\n",
      "    pandas-0.23.4              |py27h637b7d7_1000         9.8 MB  conda-forge\n",
      "    pandocfilters-1.4.2        |             py_1           9 KB  conda-forge\n",
      "    parso-0.3.1                |             py_0          59 KB  conda-forge\n",
      "    pathlib2-2.3.3             |        py27_1000          31 KB  conda-forge\n",
      "    patsy-0.5.1                |             py_0         187 KB  conda-forge\n",
      "    pexpect-4.6.0              |        py27_1000          73 KB  conda-forge\n",
      "    pickleshare-0.7.4          |           py27_0          11 KB  conda-forge\n",
      "    pil-1.1.7                  |           py27_2         681 KB  defaults\n",
      "    pillow-3.2.0               |           py27_0         784 KB  conda-forge\n",
      "    pip-10.0.1                 |           py27_0         1.7 MB  conda-forge\n",
      "    pixman-0.34.0              |    h14c3975_1003         595 KB  conda-forge\n",
      "    plotly-3.1.0               |             py_0        26.3 MB  conda-forge\n",
      "    prompt_toolkit-1.0.15      |             py_1         154 KB  conda-forge\n",
      "    ptyprocess-0.6.0           |        py27_1000          22 KB  conda-forge\n",
      "    py-xgboost-0.72            |   py27hf484d3e_0         1.6 MB  defaults\n",
      "    py4j-0.10.8.1              |             py_0         178 KB  conda-forge\n",
      "    pycairo-1.16.3             |           py27_0         187 KB  conda-forge\n",
      "    pycparser-2.18             |             py_1          84 KB  conda-forge\n",
      "    pydotplus-2.0.2            |             py_1          22 KB  conda-forge\n",
      "    pygments-2.2.0             |             py_1         622 KB  conda-forge\n",
      "    pyopenssl-18.0.0           |        py27_1000          78 KB  conda-forge\n",
      "    pyparsing-2.4.0            |             py_0          55 KB  conda-forge\n",
      "    pyqt-4.11.4                |           py27_3         3.5 MB  conda-forge\n",
      "    pysocks-1.6.8              |        py27_1002          22 KB  conda-forge\n",
      "    pyspark-2.4.0              |        py27_1000       203.4 MB  conda-forge\n",
      "    python-2.7.15              |       h9fef7bc_0        13.9 MB  conda-forge\n",
      "    python-dateutil-2.8.0      |             py_0         219 KB  conda-forge\n",
      "    python-editor-1.0.4        |             py_0           9 KB  conda-forge\n",
      "    python-oauth2-1.0.1        |           py27_0          84 KB  conda-forge\n",
      "    pytz-2018.5                |             py_0         193 KB  conda-forge\n",
      "    pyzmq-15.3.0               |           py27_0         767 KB  conda-forge\n",
      "    qt-4.8.7                   |                3        34.1 MB  defaults\n",
      "    requests-2.19.1            |        py27_1001          93 KB  conda-forge\n",
      "    retrying-1.3.3             |             py_2          11 KB  conda-forge\n",
      "    s3transfer-0.1.13          |        py27_1001          74 KB  conda-forge\n",
      "    scandir-1.10.0             |   py27h14c3975_0          28 KB  conda-forge\n",
      "    scikit-learn-0.20.2        |   py27hd81dba3_0         5.7 MB  defaults\n",
      "    scipy-1.1.0                |   py27h7c811a0_2        17.6 MB  defaults\n",
      "    seaborn-0.9.0              |             py_0         159 KB  conda-forge\n",
      "    setuptools-40.0.0          |           py27_1         583 KB  conda-forge\n",
      "    simplegeneric-0.8.1        |             py_1           7 KB  conda-forge\n",
      "    singledispatch-3.4.0.3     |        py27_1000          15 KB  conda-forge\n",
      "    sip-4.18                   |           py27_1         265 KB  conda-forge\n",
      "    six-1.11.0                 |        py27_1001          20 KB  conda-forge\n",
      "    smart_open-1.8.0           |             py_0          38 KB  conda-forge\n",
      "    soupsieve-1.9              |           py27_0          55 KB  conda-forge\n",
      "    sqlalchemy-1.3.2           |   py27h516909a_0         1.7 MB  conda-forge\n",
      "    statsmodels-0.9.0          |py27h3010b51_1000         8.7 MB  conda-forge\n",
      "    subprocess32-3.5.3         |   py27h14c3975_0          39 KB  conda-forge\n",
      "    terminado-0.8.2            |           py27_0          22 KB  conda-forge\n",
      "    testpath-0.4.2             |          py_1001          85 KB  conda-forge\n",
      "    tornado-4.5.3              |py27h14c3975_1001         627 KB  conda-forge\n",
      "    traceback2-1.4.0           |           py27_0          28 KB  conda-forge\n",
      "    traitlets-4.3.2            |        py27_1000         125 KB  conda-forge\n",
      "    unittest2-1.1.0            |             py_0          68 KB  conda-forge\n",
      "    urllib3-1.23               |        py27_1001         150 KB  conda-forge\n",
      "    wcwidth-0.1.7              |             py_1          17 KB  conda-forge\n",
      "    webencodings-0.5.1         |             py_1          12 KB  conda-forge\n",
      "    wheel-0.31.1               |        py27_1001          61 KB  conda-forge\n",
      "    xlrd-1.1.0                 |             py_2         110 KB  conda-forge\n",
      "    ------------------------------------------------------------\n",
      "                                           Total:       437.7 MB\n",
      "\n",
      "The following NEW packages will be INSTALLED:\n",
      "\n",
      "  backports          conda-forge/noarch::backports-1.0-py_2\n",
      "  backports.functoo~ conda-forge/noarch::backports.functools_lru_cache-1.5-py_1\n",
      "  backports.shutil_~ conda-forge/noarch::backports.shutil_get_terminal_size-1.0.0-py_3\n",
      "  backports_abc      conda-forge/noarch::backports_abc-0.5-py_1\n",
      "  bz2file            conda-forge/noarch::bz2file-0.98-py_0\n",
      "  bzip2              conda-forge/linux-64::bzip2-1.0.6-h14c3975_1002\n",
      "  cairo              pkgs/free/linux-64::cairo-1.14.8-0\n",
      "  configparser       conda-forge/linux-64::configparser-3.7.3-py27_1\n",
      "  defusedxml         conda-forge/noarch::defusedxml-0.5.0-py_1\n",
      "  enum34             conda-forge/linux-64::enum34-1.1.6-py27_1001\n",
      "  functools32        conda-forge/noarch::functools32-3.2.3.2-py_3\n",
      "  futures            conda-forge/linux-64::futures-3.2.0-py27_1000\n",
      "  ipaddress          conda-forge/noarch::ipaddress-1.0.22-py_1\n",
      "  jbig               conda-forge/linux-64::jbig-2.1-h14c3975_2001\n",
      "  lcms               pkgs/free/linux-64::lcms-1.19-0\n",
      "  libiconv           conda-forge/linux-64::libiconv-1.14-4\n",
      "  linecache2         conda-forge/noarch::linecache2-1.0.0-py_1\n",
      "  pathlib2           conda-forge/linux-64::pathlib2-2.3.3-py27_1000\n",
      "  pil                pkgs/free/linux-64::pil-1.1.7-py27_2\n",
      "  pixman             conda-forge/linux-64::pixman-0.34.0-h14c3975_1003\n",
      "  pycairo            conda-forge/linux-64::pycairo-1.16.3-py27_0\n",
      "  scandir            conda-forge/linux-64::scandir-1.10.0-py27h14c3975_0\n",
      "  singledispatch     conda-forge/linux-64::singledispatch-3.4.0.3-py27_1000\n",
      "  subprocess32       conda-forge/linux-64::subprocess32-3.5.3-py27h14c3975_0\n",
      "  traceback2         conda-forge/linux-64::traceback2-1.4.0-py27_0\n",
      "  unittest2          conda-forge/noarch::unittest2-1.1.0-py_0\n",
      "\n",
      "The following packages will be REMOVED:\n",
      "\n",
      "  jupyterhub-0.8.1-py36_0\n",
      "\n",
      "The following packages will be UPDATED:\n",
      "\n",
      "  alembic            pkgs/main/linux-64::alembic-1.0.7-py3~ --> conda-forge/noarch::alembic-1.0.8-py_0\n",
      "  asn1crypto            pkgs/main::asn1crypto-0.24.0-py36_0 --> conda-forge::asn1crypto-0.24.0-py27_1003\n",
      "  beautifulsoup4     pkgs/main::beautifulsoup4-4.7.1-py36_1 --> conda-forge::beautifulsoup4-4.7.1-py27_1001\n",
      "  cffi                pkgs/main::cffi-1.11.5-py36he75722e_1 --> conda-forge::cffi-1.11.5-py27h9745a5d_1001\n",
      "  chardet                   pkgs/main::chardet-3.0.4-py36_1 --> conda-forge::chardet-3.0.4-py27_1003\n",
      "  cryptography       pkgs/main::cryptography-2.3.1-py36hc3~ --> conda-forge::cryptography-2.3.1-py27hb7f436b_1000\n",
      "  cryptography-vect~ pkgs/main::cryptography-vectors-2.3.1~ --> conda-forge::cryptography-vectors-2.3.1-py27_1000\n",
      "  cycler             pkgs/main/linux-64::cycler-0.10.0-py3~ --> conda-forge/noarch::cycler-0.10.0-py_1\n",
      "  cython             pkgs/main::cython-0.28.5-py36hf484d3e~ --> conda-forge::cython-0.28.5-py27hf484d3e_1000\n",
      "  docutils                  pkgs/main::docutils-0.14-py36_0 --> conda-forge::docutils-0.14-py27_1001\n",
      "  entrypoints             pkgs/main::entrypoints-0.3-py36_0 --> conda-forge::entrypoints-0.3-py27_1000\n",
      "  h5py                 pkgs/main::h5py-2.9.0-py36h7918eee_0 --> conda-forge::h5py-2.9.0-nompi_py27hf008753_1102\n",
      "  idna                           pkgs/main::idna-2.7-py36_0 --> conda-forge::idna-2.7-py27_1002\n",
      "  ipython_genutils   pkgs/main/linux-64::ipython_genutils-~ --> conda-forge/noarch::ipython_genutils-0.2.0-py_1\n",
      "  jinja2             pkgs/main/linux-64::jinja2-2.10-py36_0 --> conda-forge/noarch::jinja2-2.10.1-py_0\n",
      "  jmespath           pkgs/main/linux-64::jmespath-0.9.3-py~ --> conda-forge/noarch::jmespath-0.9.4-py_0\n",
      "  jsonschema             pkgs/main::jsonschema-2.6.0-py36_0 --> conda-forge::jsonschema-2.6.0-py27_1002\n",
      "  jupyter_client     pkgs/main/linux-64::jupyter_client-5.~ --> conda-forge/noarch::jupyter_client-5.2.4-py_3\n",
      "  jupyterlab           pkgs/main::jupyterlab-0.31.12-py36_0 --> conda-forge::jupyterlab-0.31.12-py27_1\n",
      "  kiwisolver         pkgs/main::kiwisolver-1.0.1-py36hf484~ --> conda-forge::kiwisolver-1.0.1-py27h6bb024c_1002\n",
      "  mako                pkgs/main/linux-64::mako-1.0.7-py36_0 --> conda-forge/noarch::mako-1.0.7-py_1\n",
      "  mistune            pkgs/main::mistune-0.8.4-py36h7b6447c~ --> conda-forge::mistune-0.8.4-py27h14c3975_1000\n",
      "  mkl_fft            pkgs/main::mkl_fft-1.0.10-py36ha843d7~ --> conda-forge::mkl_fft-1.0.11-py27h14c3975_0\n",
      "  mkl_random         pkgs/main::mkl_random-1.0.2-py36hd81d~ --> conda-forge::mkl_random-1.0.2-py27h637b7d7_2\n",
      "  nb_conda                 pkgs/main::nb_conda-2.2.1-py36_0 --> conda-forge::nb_conda-2.2.1-py27_2\n",
      "  nb_conda_kernels   pkgs/main::nb_conda_kernels-2.2.0-py3~ --> conda-forge::nb_conda_kernels-2.2.1-py27_0\n",
      "  nbconvert          pkgs/main/linux-64::nbconvert-5.3.1-p~ --> conda-forge/noarch::nbconvert-5.4.1-py_2\n",
      "  nbformat           pkgs/main/linux-64::nbformat-4.4.0-py~ --> conda-forge/noarch::nbformat-4.4.0-py_1\n",
      "  notebook           pkgs/main::notebook-5.2.2-py36h40a37e~ --> conda-forge::notebook-5.2.2-py27_1\n",
      "  pamela             pkgs/main/linux-64::pamela-0.3.0-py36~ --> conda-forge/noarch::pamela-1.0.0-py_0\n",
      "  pandas             pkgs/main::pandas-0.23.4-py36h04863e7~ --> conda-forge::pandas-0.23.4-py27h637b7d7_1000\n",
      "  pexpect                   pkgs/main::pexpect-4.6.0-py36_0 --> conda-forge::pexpect-4.6.0-py27_1000\n",
      "  prompt_toolkit     pkgs/main/linux-64::prompt_toolkit-1.~ --> conda-forge/noarch::prompt_toolkit-1.0.15-py_1\n",
      "  ptyprocess             pkgs/main::ptyprocess-0.6.0-py36_0 --> conda-forge::ptyprocess-0.6.0-py27_1000\n",
      "  py4j               pkgs/main/linux-64::py4j-0.10.7-py36_0 --> conda-forge/noarch::py4j-0.10.8.1-py_0\n",
      "  pygments           pkgs/main/linux-64::pygments-2.2.0-py~ --> conda-forge/noarch::pygments-2.2.0-py_1\n",
      "  pyopenssl              pkgs/main::pyopenssl-18.0.0-py36_0 --> conda-forge::pyopenssl-18.0.0-py27_1000\n",
      "  pyparsing          pkgs/main/linux-64::pyparsing-2.3.1-p~ --> conda-forge/noarch::pyparsing-2.4.0-py_0\n",
      "  pysocks                   pkgs/main::pysocks-1.6.8-py36_0 --> conda-forge::pysocks-1.6.8-py27_1002\n",
      "  pyspark                   pkgs/main::pyspark-2.4.0-py36_0 --> conda-forge::pyspark-2.4.0-py27_1000\n",
      "  python-editor      pkgs/main/linux-64::python-editor-1.0~ --> conda-forge/noarch::python-editor-1.0.4-py_0\n",
      "  requests                pkgs/main::requests-2.19.1-py36_0 --> conda-forge::requests-2.19.1-py27_1001\n",
      "  s3transfer            pkgs/main::s3transfer-0.1.13-py36_0 --> conda-forge::s3transfer-0.1.13-py27_1001\n",
      "  setuptools            pkgs/main::setuptools-40.0.0-py36_0 --> conda-forge::setuptools-40.0.0-py27_1\n",
      "  six                          pkgs/main::six-1.11.0-py36_1 --> conda-forge::six-1.11.0-py27_1001\n",
      "  soupsieve               pkgs/main::soupsieve-1.7.1-py36_0 --> conda-forge::soupsieve-1.9-py27_0\n",
      "  sqlalchemy         pkgs/main::sqlalchemy-1.2.18-py36h7b6~ --> conda-forge::sqlalchemy-1.3.2-py27h516909a_0\n",
      "  statsmodels        pkgs/main::statsmodels-0.9.0-py36h035~ --> conda-forge::statsmodels-0.9.0-py27h3010b51_1000\n",
      "  terminado               pkgs/main::terminado-0.8.1-py36_1 --> conda-forge::terminado-0.8.2-py27_0\n",
      "  testpath           pkgs/main/linux-64::testpath-0.4.2-py~ --> conda-forge/noarch::testpath-0.4.2-py_1001\n",
      "  tornado                   pkgs/main::tornado-4.5.3-py36_0 --> conda-forge::tornado-4.5.3-py27h14c3975_1001\n",
      "  traitlets               pkgs/main::traitlets-4.3.2-py36_0 --> conda-forge::traitlets-4.3.2-py27_1000\n",
      "  urllib3                    pkgs/main::urllib3-1.23-py36_0 --> conda-forge::urllib3-1.23-py27_1001\n",
      "  wcwidth            pkgs/main/linux-64::wcwidth-0.1.7-py3~ --> conda-forge/noarch::wcwidth-0.1.7-py_1\n",
      "  wheel                      pkgs/main::wheel-0.31.1-py36_0 --> conda-forge::wheel-0.31.1-py27_1001\n",
      "  xlrd                pkgs/main/linux-64::xlrd-1.1.0-py36_1 --> conda-forge/noarch::xlrd-1.1.0-py_2\n",
      "\n",
      "The following packages will be SUPERSEDED by a higher-priority channel:\n",
      "\n",
      "  backcall           pkgs/main/linux-64::backcall-0.1.0-py~ --> conda-forge/noarch::backcall-0.1.0-py_0\n",
      "  bleach             pkgs/main/linux-64::bleach-3.1.0-py36~ --> conda-forge/noarch::bleach-3.1.0-py_0\n",
      "  boto               pkgs/main/linux-64::boto-2.49.0-py36_0 --> conda-forge/noarch::boto-2.49.0-py_0\n",
      "  decorator          pkgs/main/linux-64::decorator-4.3.0-p~ --> conda-forge/noarch::decorator-4.3.0-py_0\n",
      "  fontconfig         pkgs/main::fontconfig-2.13.0-h9420a91~ --> pkgs/free::fontconfig-2.12.1-3\n",
      "  freetype             pkgs/main::freetype-2.9.1-h8a8886c_1 --> pkgs/free::freetype-2.5.5-2\n",
      "  gensim             pkgs/main::gensim-3.4.0-py36h14c3975_0 --> conda-forge::gensim-3.4.0-py27_0\n",
      "  ipykernel          pkgs/main::ipykernel-5.1.0-py36h39e3c~ --> conda-forge::ipykernel-4.10.0-py27_1\n",
      "  ipython                   pkgs/main::ipython-6.5.0-py36_0 --> conda-forge::ipython-5.8.0-py27_0\n",
      "  jedi                        pkgs/main::jedi-0.12.1-py36_0 --> conda-forge::jedi-0.12.1-py27_0\n",
      "  jpeg                   conda-forge::jpeg-9c-h14c3975_1001 --> pkgs/free::jpeg-8d-2\n",
      "  jupyter_core       pkgs/main/linux-64::jupyter_core-4.4.~ --> conda-forge/noarch::jupyter_core-4.4.0-py_0\n",
      "  jupyterlab_launch~ pkgs/main::jupyterlab_launcher-0.10.5~ --> conda-forge::jupyterlab_launcher-0.10.5-py27_0\n",
      "  libtiff            conda-forge::libtiff-4.0.10-h648cc4a_~ --> pkgs/free::libtiff-4.0.6-2\n",
      "  markupsafe         pkgs/main::markupsafe-1.1.1-py36h7b64~ --> conda-forge::markupsafe-1.1.1-py27h14c3975_0\n",
      "  matplotlib         pkgs/main::matplotlib-3.0.2-py36h5429~ --> pkgs/free::matplotlib-1.5.1-np111py27_0\n",
      "  networkx           pkgs/main/linux-64::networkx-2.2-py36~ --> conda-forge/noarch::networkx-2.2-py_1\n",
      "  pandocfilters      pkgs/main/linux-64::pandocfilters-1.4~ --> conda-forge/noarch::pandocfilters-1.4.2-py_1\n",
      "  parso              pkgs/main/linux-64::parso-0.3.1-py36_0 --> conda-forge/noarch::parso-0.3.1-py_0\n",
      "  patsy              pkgs/main/linux-64::patsy-0.5.1-py36_0 --> conda-forge/noarch::patsy-0.5.1-py_0\n",
      "  pickleshare           pkgs/main::pickleshare-0.7.4-py36_0 --> conda-forge::pickleshare-0.7.4-py27_0\n",
      "  pip                          pkgs/main::pip-10.0.1-py36_0 --> conda-forge::pip-10.0.1-py27_0\n",
      "  plotly             pkgs/main/linux-64::plotly-3.1.0-py36~ --> conda-forge/noarch::plotly-3.1.0-py_0\n",
      "  pycparser          pkgs/main/linux-64::pycparser-2.18-py~ --> conda-forge/noarch::pycparser-2.18-py_1\n",
      "  pydotplus          pkgs/main/linux-64::pydotplus-2.0.2-p~ --> conda-forge/noarch::pydotplus-2.0.2-py_1\n",
      "  pyqt                 pkgs/main::pyqt-5.9.2-py36h05f1152_2 --> conda-forge::pyqt-4.11.4-py27_3\n",
      "  python                 pkgs/main::python-3.6.6-hc3d631a_0 --> conda-forge::python-2.7.15-h9fef7bc_0\n",
      "  python-dateutil    pkgs/main/linux-64::python-dateutil-2~ --> conda-forge/noarch::python-dateutil-2.8.0-py_0\n",
      "  python-oauth2      pkgs/main::python-oauth2-1.1.0-py36h2~ --> conda-forge::python-oauth2-1.0.1-py27_0\n",
      "  pytz               pkgs/main/linux-64::pytz-2018.5-py36_0 --> conda-forge/noarch::pytz-2018.5-py_0\n",
      "  pyzmq              pkgs/main::pyzmq-18.0.0-py36he6710b0_0 --> conda-forge::pyzmq-15.3.0-py27_0\n",
      "  qt                         pkgs/main::qt-5.9.6-h8703b6f_2 --> pkgs/free::qt-4.8.7-3\n",
      "  retrying           pkgs/main/linux-64::retrying-1.3.3-py~ --> conda-forge/noarch::retrying-1.3.3-py_2\n",
      "  seaborn            pkgs/main/linux-64::seaborn-0.9.0-py3~ --> conda-forge/noarch::seaborn-0.9.0-py_0\n",
      "  simplegeneric      pkgs/main/linux-64::simplegeneric-0.8~ --> conda-forge/noarch::simplegeneric-0.8.1-py_1\n",
      "  sip                  pkgs/main::sip-4.19.8-py36hf484d3e_0 --> conda-forge::sip-4.18-py27_1\n",
      "  smart_open         pkgs/main/linux-64::smart_open-1.8.0-~ --> conda-forge/noarch::smart_open-1.8.0-py_0\n",
      "  webencodings       pkgs/main/linux-64::webencodings-0.5.~ --> conda-forge/noarch::webencodings-0.5.1-py_1\n",
      "\n",
      "The following packages will be DOWNGRADED:\n",
      "\n",
      "  certifi                                   2019.3.9-py36_0 --> 2019.3.9-py27_0\n",
      "  nltk                                           3.4-py36_1 --> 3.4-py27_1\n",
      "  numpy                               1.16.2-py36h7e9f1db_0 --> 1.11.3-py27h7e9f1db_12\n",
      "  numpy-base                          1.16.2-py36hde5b4d6_0 --> 1.11.3-py27hde5b4d6_12\n",
      "  pillow                            5.3.0-py36h00a061d_1000 --> 3.2.0-py27_0\n",
      "  py-xgboost                            0.72-py36hf484d3e_0 --> 0.72-py27hf484d3e_0\n",
      "  scikit-learn                        0.20.2-py36hd81dba3_0 --> 0.20.2-py27hd81dba3_0\n",
      "  scipy                                1.1.0-py36h7c811a0_2 --> 1.1.0-py27h7c811a0_2\n",
      "\n",
      "\n",
      "\n",
      "Downloading and Extracting Packages\n"
     ]
    },
    {
     "name": "stdout",
     "output_type": "stream",
     "text": [
      "unittest2-1.1.0      | 68 KB     | ##################################### | 100% \n",
      "pydotplus-2.0.2      | 22 KB     | ##################################### | 100% \n",
      "ipaddress-1.0.22     | 18 KB     | ##################################### | 100% \n",
      "pickleshare-0.7.4    | 11 KB     | ##################################### | 100% \n",
      "plotly-3.1.0         | 26.3 MB   | ##################################### | 100% \n",
      "smart_open-1.8.0     | 38 KB     | ##################################### | 100% \n",
      "qt-4.8.7             | 34.1 MB   | ##################################### | 100% \n",
      "libiconv-1.14        | 2.0 MB    |                                       |   0% \n",
      "tornado-4.5.3        | 627 KB    | ##################################### | 100% \n",
      "jsonschema-2.6.0     | 61 KB     | ##################################### | 100% \n",
      "matplotlib-1.5.1     | 8.4 MB    | ##################################### | 100% \n",
      "notebook-5.2.2       | 6.6 MB    | ##################################### | 100% \n",
      "pandas-0.23.4        | 9.8 MB    | ##################################### | 100% \n",
      "chardet-3.0.4        | 180 KB    | ##################################### | 100% \n",
      "pandocfilters-1.4.2  | 9 KB      | ##################################### | 100% \n",
      "pycparser-2.18       | 84 KB     | ##################################### | 100% \n",
      "mkl_random-1.0.2     | 331 KB    | ##################################### | 100% \n",
      "entrypoints-0.3      | 13 KB     | ##################################### | 100% \n",
      "pyopenssl-18.0.0     | 78 KB     | ##################################### | 100% \n",
      "cycler-0.10.0        | 8 KB      | ##################################### | 100% \n",
      "pixman-0.34.0        | 595 KB    | ##################################### | 100% \n",
      "testpath-0.4.2       | 85 KB     | ##################################### | 100% \n",
      "pycairo-1.16.3       | 187 KB    | ##################################### | 100% \n",
      "pamela-1.0.0         | 9 KB      | ##################################### | 100% \n",
      "mistune-0.8.4        | 52 KB     | ##################################### | 100% \n",
      "libtiff-4.0.6        | 1.5 MB    | ##################################### | 100% \n",
      "pyspark-2.4.0        | 203.4 MB  | ##################################### | 100% \n",
      "soupsieve-1.9        | 55 KB     | ##################################### | 100% \n",
      "jmespath-0.9.4       | 20 KB     | ##################################### | 100% \n",
      "backcall-0.1.0       | 13 KB     | ##################################### | 100% \n",
      "sip-4.18             | 265 KB    | ##################################### | 100% \n",
      "py-xgboost-0.72      | 1.6 MB    | ##################################### | 100% \n",
      "beautifulsoup4-4.7.1 | 136 KB    | ##################################### | 100% \n",
      "cython-0.28.5        | 3.2 MB    | ##################################### | 100% \n",
      "nbformat-4.4.0       | 91 KB     | ##################################### | 100% \n",
      "jpeg-8d              | 806 KB    | ##################################### | 100% \n",
      "nb_conda-2.2.1       | 35 KB     | ##################################### | 100% \n",
      "ipykernel-4.10.0     | 144 KB    | ##################################### | 100% \n",
      "retrying-1.3.3       | 11 KB     | ##################################### | 100% \n",
      "functools32-3.2.3.2  | 15 KB     | ##################################### | 100% \n",
      "docutils-0.14        | 706 KB    | ##################################### | 100% \n",
      "s3transfer-0.1.13    | 74 KB     | ##################################### | 100% \n",
      "bleach-3.1.0         | 110 KB    | ##################################### | 100% \n",
      "pexpect-4.6.0        | 73 KB     | ##################################### | 100% \n",
      "numpy-1.11.3         | 16 KB     | ##################################### | 100% \n",
      "jupyter_client-5.2.4 | 63 KB     | ##################################### | 100% \n",
      "scandir-1.10.0       | 28 KB     | ##################################### | 100% \n",
      "gensim-3.4.0         | 22.2 MB   | ##################################### | 100% \n",
      "urllib3-1.23         | 150 KB    | ##################################### | 100% \n",
      "h5py-2.9.0           | 1.1 MB    | ##################################### | 100% \n",
      "singledispatch-3.4.0 | 15 KB     | ##################################### | 100% \n",
      "pytz-2018.5          | 193 KB    | ##################################### | 100% \n",
      "cffi-1.11.5          | 207 KB    | ##################################### | 100% \n",
      "backports_abc-0.5    | 5 KB      | ##################################### | 100% \n",
      "cairo-1.14.8         | 609 KB    | ##################################### | 100% \n",
      "backports.functools_ | 6 KB      | ##################################### | 100% \n",
      "defusedxml-0.5.0     | 20 KB     | ##################################### | 100% \n",
      "requests-2.19.1      | 93 KB     | ##################################### | 100% \n",
      "markupsafe-1.1.1     | 25 KB     | ##################################### | 100% \n",
      "idna-2.7             | 131 KB    | ##################################### | 100% \n",
      "networkx-2.2         | 1.1 MB    | ##################################### | 100% \n",
      "traceback2-1.4.0     | 28 KB     | ##################################### | 100% \n",
      "python-editor-1.0.4  | 9 KB      | ##################################### | 100% \n",
      "jupyterlab_launcher- | 24 KB     | ##################################### | 100% \n",
      "subprocess32-3.5.3   | 39 KB     | ##################################### | 100% \n",
      "seaborn-0.9.0        | 159 KB    | ##################################### | 100% \n",
      "wcwidth-0.1.7        | 17 KB     | ##################################### | 100% \n",
      "sqlalchemy-1.3.2     | 1.7 MB    | ##################################### | 100% \n",
      "jupyter_core-4.4.0   | 44 KB     | ##################################### | 100% \n",
      "pil-1.1.7            | 681 KB    | ##################################### | 100% \n",
      "ipython-5.8.0        | 1.0 MB    | ##################################### | 100% \n",
      "configparser-3.7.3   | 36 KB     | ##################################### | 100% \n",
      "pyparsing-2.4.0      | 55 KB     | ##################################### | 100% \n",
      "nb_conda_kernels-2.2 | 31 KB     | ##################################### | 100% \n",
      "simplegeneric-0.8.1  | 7 KB      | ##################################### | 100% \n",
      "nbconvert-5.4.1      | 332 KB    | ##################################### | 100% \n",
      "jupyterlab-0.31.12   | 8.5 MB    | ##################################### | 100% \n",
      "bz2file-0.98         | 9 KB      | ##################################### | 100% \n",
      "decorator-4.3.0      | 10 KB     | ##################################### | 100% \n",
      "python-dateutil-2.8. | 219 KB    | ##################################### | 100% \n",
      "nltk-3.4             | 2.1 MB    | ##################################### | 100% \n",
      "jinja2-2.10.1        | 91 KB     | ##################################### | 100% \n",
      "pygments-2.2.0       | 622 KB    | ##################################### | 100% \n",
      "boto-2.49.0          | 838 KB    | ##################################### | 100% \n",
      "pyqt-4.11.4          | 3.5 MB    | ##################################### | 100% \n",
      "certifi-2019.3.9     | 149 KB    | ##################################### | 100% \n",
      "freetype-2.5.5       | 2.5 MB    | ##################################### | 100% \n",
      "parso-0.3.1          | 59 KB     | ##################################### | 100% \n",
      "ptyprocess-0.6.0     | 22 KB     | ##################################### | 100% \n",
      "xlrd-1.1.0           | 110 KB    | ##################################### | 100% \n",
      "prompt_toolkit-1.0.1 | 154 KB    | ##################################### | 100% \n",
      "cryptography-2.3.1   | 584 KB    | ##################################### | 100% \n",
      "fontconfig-2.12.1    | 429 KB    | ##################################### | 100% \n",
      "patsy-0.5.1          | 187 KB    | ##################################### | 100% \n",
      "backports.shutil_get | 7 KB      | ##################################### | 100% \n",
      "python-oauth2-1.0.1  | 84 KB     | ##################################### | 100% \n",
      "linecache2-1.0.0     | 13 KB     | ##################################### | 100% \n",
      "alembic-1.0.8        | 106 KB    | ##################################### | 100% \n",
      "terminado-0.8.2      | 22 KB     | ##################################### | 100% \n",
      "statsmodels-0.9.0    | 8.7 MB    | ##################################### | 100% \n",
      "py4j-0.10.8.1        | 178 KB    | ##################################### | 100% \n"
     ]
    },
    {
     "name": "stdout",
     "output_type": "stream",
     "text": [
      "traitlets-4.3.2      | 125 KB    | ##################################### | 100% \n",
      "webencodings-0.5.1   | 12 KB     | ##################################### | 100% \n",
      "lcms-1.19            | 595 KB    | ##################################### | 100% \n",
      "python-2.7.15        | 13.9 MB   | ##################################### | 100% \n",
      "numpy-base-1.11.3    | 3.5 MB    | ##################################### | 100% \n",
      "mako-1.0.7           | 57 KB     | ##################################### | 100% \n",
      "setuptools-40.0.0    | 583 KB    | ##################################### | 100% \n",
      "backports-1.0        | 4 KB      | ##################################### | 100% \n",
      "enum34-1.1.6         | 56 KB     | ##################################### | 100% \n",
      "jbig-2.1             | 40 KB     | ##################################### | 100% \n",
      "cryptography-vectors | 30.5 MB   | ##################################### | 100% \n",
      "asn1crypto-0.24.0    | 154 KB    | ##################################### | 100% \n",
      "pysocks-1.6.8        | 22 KB     | ##################################### | 100% \n",
      "pip-10.0.1           | 1.7 MB    | ##################################### | 100% \n",
      "ipython_genutils-0.2 | 21 KB     | ##################################### | 100% \n",
      "pathlib2-2.3.3       | 31 KB     | ##################################### | 100% \n",
      "six-1.11.0           | 20 KB     | ##################################### | 100% \n",
      "pyzmq-15.3.0         | 767 KB    | ##################################### | 100% \n",
      "mkl_fft-1.0.11       | 159 KB    | ##################################### | 100% \n",
      "futures-3.2.0        | 24 KB     | ##################################### | 100% \n",
      "wheel-0.31.1         | 61 KB     | ##################################### | 100% \n",
      "pillow-3.2.0         | 784 KB    | ##################################### | 100% \n",
      "jedi-0.12.1          | 222 KB    | ##################################### | 100% \n",
      "scipy-1.1.0          | 17.6 MB   | ##################################### | 100% \n",
      "kiwisolver-1.0.1     | 86 KB     | ##################################### | 100% \n",
      "scikit-learn-0.20.2  | 5.7 MB    | ##################################### | 100% \n",
      "\n",
      "CondaHTTPError: HTTP 503 SERVICE TEMPORARILY UNAVAILABLE for url <https://conda.anaconda.org/conda-forge/linux-64/libiconv-1.14-4.tar.bz2>\n",
      "Elapsed: 00:00.011493\n",
      "CF-RAY: 4c4657b1891fccf0-EWR\n",
      "\n",
      "An HTTP error occurred when trying to retrieve this URL.\n",
      "HTTP errors are often intermittent, and a simple retry will get you on your way.\n",
      "\n",
      "\n",
      "\n"
     ]
    }
   ],
   "source": [
    "!conda install -y PIL"
   ]
  },
  {
   "cell_type": "code",
   "execution_count": 9,
   "metadata": {},
   "outputs": [
    {
     "name": "stdout",
     "output_type": "stream",
     "text": [
      "Collecting package metadata: done\n",
      "Solving environment: done\n",
      "\n",
      "\n",
      "==> WARNING: A newer version of conda exists. <==\n",
      "  current version: 4.6.7\n",
      "  latest version: 4.6.11\n",
      "\n",
      "Please update conda by running\n",
      "\n",
      "    $ conda update -n base conda\n",
      "\n",
      "\n",
      "\n",
      "## Package Plan ##\n",
      "\n",
      "  environment location: /opt/conda/envs/learn-env\n",
      "\n",
      "  added / updated specs:\n",
      "    - pillow\n",
      "\n",
      "\n",
      "The following packages will be downloaded:\n",
      "\n",
      "    package                    |            build\n",
      "    ---------------------------|-----------------\n",
      "    ca-certificates-2019.3.9   |       hecc5488_0         146 KB  conda-forge\n",
      "    certifi-2019.3.9           |           py36_0         149 KB  conda-forge\n",
      "    jpeg-9c                    |    h14c3975_1001         251 KB  conda-forge\n",
      "    libtiff-4.0.10             |    h648cc4a_1001         592 KB  conda-forge\n",
      "    olefile-0.46               |             py_0          31 KB  conda-forge\n",
      "    openssl-1.0.2r             |       h14c3975_0         3.1 MB  conda-forge\n",
      "    pillow-5.3.0               |py36h00a061d_1000         598 KB  conda-forge\n",
      "    ------------------------------------------------------------\n",
      "                                           Total:         4.9 MB\n",
      "\n",
      "The following NEW packages will be INSTALLED:\n",
      "\n",
      "  libtiff            conda-forge/linux-64::libtiff-4.0.10-h648cc4a_1001\n",
      "  olefile            conda-forge/noarch::olefile-0.46-py_0\n",
      "  pillow             conda-forge/linux-64::pillow-5.3.0-py36h00a061d_1000\n",
      "\n",
      "The following packages will be UPDATED:\n",
      "\n",
      "  ca-certificates    pkgs/main::ca-certificates-2018.03.07~ --> conda-forge::ca-certificates-2019.3.9-hecc5488_0\n",
      "  certifi               pkgs/main::certifi-2018.8.13-py36_0 --> conda-forge::certifi-2019.3.9-py36_0\n",
      "  jpeg                        pkgs/main::jpeg-9b-h024ee3a_2 --> conda-forge::jpeg-9c-h14c3975_1001\n",
      "  openssl              pkgs/main::openssl-1.0.2p-h14c3975_0 --> conda-forge::openssl-1.0.2r-h14c3975_0\n",
      "\n",
      "\n",
      "\n",
      "Downloading and Extracting Packages\n",
      "certifi-2019.3.9     | 149 KB    | ##################################### | 100% \n",
      "olefile-0.46         | 31 KB     | ##################################### | 100% \n",
      "openssl-1.0.2r       | 3.1 MB    | ##################################### | 100% \n",
      "libtiff-4.0.10       | 592 KB    | ##################################### | 100% \n",
      "pillow-5.3.0         | 598 KB    | ##################################### | 100% \n",
      "jpeg-9c              | 251 KB    | ##################################### | 100% \n",
      "ca-certificates-2019 | 146 KB    | ##################################### | 100% \n",
      "Preparing transaction: done\n",
      "Verifying transaction: done\n",
      "Executing transaction: done\n"
     ]
    }
   ],
   "source": [
    "!conda install -y Pillow"
   ]
  },
  {
   "cell_type": "markdown",
   "metadata": {},
   "source": [
    "In this lab, you'll get a bunch of images, and the purpose is to correctly classify these images as \"Santa\", meaning that Santa is present on the image or \"not Santa\" meaning that something else is in the images. \n",
    "\n",
    "If you have a look at this github repository, you'll notice that the images are simply stored in .jpeg-files and stored under the folder `/data`. Luckily, `keras` had great modules that make importing images stored in this type of format easy. We'll do this for you in the code below.\n",
    "\n",
    "The images in the `/data` folder have various resultions. We will reshape them so they are all have 64 x 64 pixels."
   ]
  },
  {
   "cell_type": "code",
   "execution_count": 13,
   "metadata": {},
   "outputs": [
    {
     "name": "stdout",
     "output_type": "stream",
     "text": [
      "Found 132 images belonging to 2 classes.\n",
      "Found 790 images belonging to 2 classes.\n"
     ]
    },
    {
     "ename": "ImportError",
     "evalue": "Could not import PIL.Image. The use of `array_to_img` requires PIL.",
     "output_type": "error",
     "traceback": [
      "\u001b[0;31m\u001b[0m",
      "\u001b[0;31mImportError\u001b[0mTraceback (most recent call last)",
      "\u001b[0;32m<ipython-input-13-de25b758fa68>\u001b[0m in \u001b[0;36m<module>\u001b[0;34m()\u001b[0m\n\u001b[1;32m     14\u001b[0m \u001b[0;34m\u001b[0m\u001b[0m\n\u001b[1;32m     15\u001b[0m \u001b[0;31m# create the data sets\u001b[0m\u001b[0;34m\u001b[0m\u001b[0;34m\u001b[0m\u001b[0m\n\u001b[0;32m---> 16\u001b[0;31m \u001b[0mtrain_images\u001b[0m\u001b[0;34m,\u001b[0m \u001b[0mtrain_labels\u001b[0m \u001b[0;34m=\u001b[0m \u001b[0mnext\u001b[0m\u001b[0;34m(\u001b[0m\u001b[0mtrain_generator\u001b[0m\u001b[0;34m)\u001b[0m\u001b[0;34m\u001b[0m\u001b[0m\n\u001b[0m\u001b[1;32m     17\u001b[0m \u001b[0mtest_images\u001b[0m\u001b[0;34m,\u001b[0m \u001b[0mtest_labels\u001b[0m \u001b[0;34m=\u001b[0m \u001b[0mnext\u001b[0m\u001b[0;34m(\u001b[0m\u001b[0mtest_generator\u001b[0m\u001b[0;34m)\u001b[0m\u001b[0;34m\u001b[0m\u001b[0m\n",
      "\u001b[0;32m/opt/conda/envs/learn-env/lib/python3.6/site-packages/keras_preprocessing/image.py\u001b[0m in \u001b[0;36m__next__\u001b[0;34m(self, *args, **kwargs)\u001b[0m\n\u001b[1;32m   1329\u001b[0m \u001b[0;34m\u001b[0m\u001b[0m\n\u001b[1;32m   1330\u001b[0m     \u001b[0;32mdef\u001b[0m \u001b[0m__next__\u001b[0m\u001b[0;34m(\u001b[0m\u001b[0mself\u001b[0m\u001b[0;34m,\u001b[0m \u001b[0;34m*\u001b[0m\u001b[0margs\u001b[0m\u001b[0;34m,\u001b[0m \u001b[0;34m**\u001b[0m\u001b[0mkwargs\u001b[0m\u001b[0;34m)\u001b[0m\u001b[0;34m:\u001b[0m\u001b[0;34m\u001b[0m\u001b[0m\n\u001b[0;32m-> 1331\u001b[0;31m         \u001b[0;32mreturn\u001b[0m \u001b[0mself\u001b[0m\u001b[0;34m.\u001b[0m\u001b[0mnext\u001b[0m\u001b[0;34m(\u001b[0m\u001b[0;34m*\u001b[0m\u001b[0margs\u001b[0m\u001b[0;34m,\u001b[0m \u001b[0;34m**\u001b[0m\u001b[0mkwargs\u001b[0m\u001b[0;34m)\u001b[0m\u001b[0;34m\u001b[0m\u001b[0m\n\u001b[0m\u001b[1;32m   1332\u001b[0m \u001b[0;34m\u001b[0m\u001b[0m\n\u001b[1;32m   1333\u001b[0m     \u001b[0;32mdef\u001b[0m \u001b[0m_get_batches_of_transformed_samples\u001b[0m\u001b[0;34m(\u001b[0m\u001b[0mself\u001b[0m\u001b[0;34m,\u001b[0m \u001b[0mindex_array\u001b[0m\u001b[0;34m)\u001b[0m\u001b[0;34m:\u001b[0m\u001b[0;34m\u001b[0m\u001b[0m\n",
      "\u001b[0;32m/opt/conda/envs/learn-env/lib/python3.6/site-packages/keras_preprocessing/image.py\u001b[0m in \u001b[0;36mnext\u001b[0;34m(self)\u001b[0m\n\u001b[1;32m   1817\u001b[0m         \u001b[0;31m# The transformation of images is not under thread lock\u001b[0m\u001b[0;34m\u001b[0m\u001b[0;34m\u001b[0m\u001b[0m\n\u001b[1;32m   1818\u001b[0m         \u001b[0;31m# so it can be done in parallel\u001b[0m\u001b[0;34m\u001b[0m\u001b[0;34m\u001b[0m\u001b[0m\n\u001b[0;32m-> 1819\u001b[0;31m         \u001b[0;32mreturn\u001b[0m \u001b[0mself\u001b[0m\u001b[0;34m.\u001b[0m\u001b[0m_get_batches_of_transformed_samples\u001b[0m\u001b[0;34m(\u001b[0m\u001b[0mindex_array\u001b[0m\u001b[0;34m)\u001b[0m\u001b[0;34m\u001b[0m\u001b[0m\n\u001b[0m",
      "\u001b[0;32m/opt/conda/envs/learn-env/lib/python3.6/site-packages/keras_preprocessing/image.py\u001b[0m in \u001b[0;36m_get_batches_of_transformed_samples\u001b[0;34m(self, index_array)\u001b[0m\n\u001b[1;32m   1770\u001b[0m                            \u001b[0mcolor_mode\u001b[0m\u001b[0;34m=\u001b[0m\u001b[0mself\u001b[0m\u001b[0;34m.\u001b[0m\u001b[0mcolor_mode\u001b[0m\u001b[0;34m,\u001b[0m\u001b[0;34m\u001b[0m\u001b[0m\n\u001b[1;32m   1771\u001b[0m                            \u001b[0mtarget_size\u001b[0m\u001b[0;34m=\u001b[0m\u001b[0mself\u001b[0m\u001b[0;34m.\u001b[0m\u001b[0mtarget_size\u001b[0m\u001b[0;34m,\u001b[0m\u001b[0;34m\u001b[0m\u001b[0m\n\u001b[0;32m-> 1772\u001b[0;31m                            interpolation=self.interpolation)\n\u001b[0m\u001b[1;32m   1773\u001b[0m             \u001b[0mx\u001b[0m \u001b[0;34m=\u001b[0m \u001b[0mimg_to_array\u001b[0m\u001b[0;34m(\u001b[0m\u001b[0mimg\u001b[0m\u001b[0;34m,\u001b[0m \u001b[0mdata_format\u001b[0m\u001b[0;34m=\u001b[0m\u001b[0mself\u001b[0m\u001b[0;34m.\u001b[0m\u001b[0mdata_format\u001b[0m\u001b[0;34m)\u001b[0m\u001b[0;34m\u001b[0m\u001b[0m\n\u001b[1;32m   1774\u001b[0m             \u001b[0;31m# Pillow images should be closed after `load_img`,\u001b[0m\u001b[0;34m\u001b[0m\u001b[0;34m\u001b[0m\u001b[0m\n",
      "\u001b[0;32m/opt/conda/envs/learn-env/lib/python3.6/site-packages/keras_preprocessing/image.py\u001b[0m in \u001b[0;36mload_img\u001b[0;34m(path, grayscale, color_mode, target_size, interpolation)\u001b[0m\n\u001b[1;32m    491\u001b[0m         \u001b[0mcolor_mode\u001b[0m \u001b[0;34m=\u001b[0m \u001b[0;34m'grayscale'\u001b[0m\u001b[0;34m\u001b[0m\u001b[0m\n\u001b[1;32m    492\u001b[0m     \u001b[0;32mif\u001b[0m \u001b[0mpil_image\u001b[0m \u001b[0;32mis\u001b[0m \u001b[0;32mNone\u001b[0m\u001b[0;34m:\u001b[0m\u001b[0;34m\u001b[0m\u001b[0m\n\u001b[0;32m--> 493\u001b[0;31m         raise ImportError('Could not import PIL.Image. '\n\u001b[0m\u001b[1;32m    494\u001b[0m                           'The use of `array_to_img` requires PIL.')\n\u001b[1;32m    495\u001b[0m     \u001b[0mimg\u001b[0m \u001b[0;34m=\u001b[0m \u001b[0mpil_image\u001b[0m\u001b[0;34m.\u001b[0m\u001b[0mopen\u001b[0m\u001b[0;34m(\u001b[0m\u001b[0mpath\u001b[0m\u001b[0;34m)\u001b[0m\u001b[0;34m\u001b[0m\u001b[0m\n",
      "\u001b[0;31mImportError\u001b[0m: Could not import PIL.Image. The use of `array_to_img` requires PIL."
     ]
    }
   ],
   "source": [
    "# directory path\n",
    "train_data_dir = 'data/train'\n",
    "test_data_dir = 'data/validation'\n",
    "\n",
    "# get all the data in the directory data/validation (132 images), and reshape them\n",
    "test_generator = ImageDataGenerator().flow_from_directory(\n",
    "        test_data_dir, \n",
    "        target_size=(64, 64), batch_size=132)\n",
    "\n",
    "# get all the data in the directory data/train (790 images), and reshape them\n",
    "train_generator = ImageDataGenerator().flow_from_directory(\n",
    "        train_data_dir, \n",
    "        target_size=(64, 64), batch_size=790)\n",
    "\n",
    "# create the data sets\n",
    "train_images, train_labels = next(train_generator)\n",
    "test_images, test_labels = next(test_generator)"
   ]
  },
  {
   "cell_type": "markdown",
   "metadata": {},
   "source": [
    "## Inspecting and preparing the data"
   ]
  },
  {
   "cell_type": "markdown",
   "metadata": {},
   "source": [
    "## Look at some images"
   ]
  },
  {
   "cell_type": "markdown",
   "metadata": {},
   "source": [
    "Note that we have 4 numpy arrays now: `train_images`, `train_labels`, `test_images`, `test_labels`. We'll need to make some changes to the data in order to make them workable, but before we do anything else, let's have a look at some of the images we loaded. We'll look at some images in train_images. You can use `array_to_img()` from `keras.processing.image` on any `train_image` (select any train_image by doing `train_image[index]` to look at it."
   ]
  },
  {
   "cell_type": "code",
   "execution_count": null,
   "metadata": {},
   "outputs": [],
   "source": [
    "#Your code here preview an image\n",
    "array_to_img(train_images[5])"
   ]
  },
  {
   "cell_type": "code",
   "execution_count": null,
   "metadata": {},
   "outputs": [],
   "source": [
    "#Your code here preview a second image\n",
    "array_to_img(train_images[13])"
   ]
  },
  {
   "cell_type": "markdown",
   "metadata": {},
   "source": [
    "## The shape of the data"
   ]
  },
  {
   "cell_type": "markdown",
   "metadata": {},
   "source": [
    "Now, let's use `np.shape()` to look at what these numpy arrays look like."
   ]
  },
  {
   "cell_type": "code",
   "execution_count": null,
   "metadata": {},
   "outputs": [],
   "source": [
    "# Preview the shape of both the images and labels for both the train and test set (4 objects total)\n",
    "# Your code here\n"
   ]
  },
  {
   "cell_type": "markdown",
   "metadata": {},
   "source": [
    "##  `train_images` and `test_images`"
   ]
  },
  {
   "cell_type": "markdown",
   "metadata": {},
   "source": [
    "Let's start with `train_images`. From the lecture, you might remember that the expected input shape is $n$ x $l$. How does this relate to what we see here?\n",
    "\n",
    "$l$ denotes the number of observations, or the number of images. The number of images in `train_images` is 790. $n$ is the number of elements in the feature vector for each image, or put differently, $n$ is the number of rows when unrowing the 3 (RGB) 64 x 64 matrices. \n",
    "\n",
    "So, translated to this example, we need to transform our `(790, 64, 64, 3)` matrix to a `(64*64*3, 790)` matrix! Hint: you should use both the `.reshape`-function and a transpose `.T`."
   ]
  },
  {
   "cell_type": "code",
   "execution_count": null,
   "metadata": {},
   "outputs": [],
   "source": [
    "train_img_unrow = #Reshape the train images using the hints above"
   ]
  },
  {
   "cell_type": "markdown",
   "metadata": {},
   "source": [
    "Let's use np.shape on the newly created `train_img_unrow` to verify that the shape is correct."
   ]
  },
  {
   "cell_type": "code",
   "execution_count": null,
   "metadata": {},
   "outputs": [],
   "source": [
    "#Your code here; Preview the shape of your new object"
   ]
  },
  {
   "cell_type": "markdown",
   "metadata": {},
   "source": [
    "Next, let's transform test_images in a similar way. Note that the dimensions are different here! Where we needed to have a matrix shape if $ n$ x $l $ for `train_images`, for `test_images`, we need to get to a shape of $ n$ x $m$. What is $m$ here?"
   ]
  },
  {
   "cell_type": "code",
   "execution_count": null,
   "metadata": {},
   "outputs": [],
   "source": [
    "m = #Define appropriate m\n",
    "test_img_unrow = test_images.reshape(m, -1).T"
   ]
  },
  {
   "cell_type": "code",
   "execution_count": null,
   "metadata": {},
   "outputs": [],
   "source": [
    "#Your code here; Once again preview the shape of your updated object"
   ]
  },
  {
   "cell_type": "markdown",
   "metadata": {},
   "source": [
    "## `train_labels` and `test_labels`"
   ]
  },
  {
   "cell_type": "markdown",
   "metadata": {},
   "source": [
    "Earlier, you noticed that `train_labels` and `test_labels` have shapes of $(790, 2)$ and $(132, 2)$ respectively. In the lecture, we expected $1$ x $l$ and $1$ x $m$.\n",
    "\n",
    "Let's have a closer look."
   ]
  },
  {
   "cell_type": "code",
   "execution_count": null,
   "metadata": {},
   "outputs": [],
   "source": [
    "train_labels #Run this block of code; no need to edit"
   ]
  },
  {
   "cell_type": "markdown",
   "metadata": {},
   "source": [
    "Looking at this, it's clear that for each observation (or image), train_labels doesn't simply have an output of 1 or 0, but a pair either `[0,1]` or `[1,0]`.\n",
    "\n",
    "Having this information, we still don't know which pair correcponds with `santa` versus `not_santa`. Luckily, what this was stored using `keras.preprocessing_image`, and you can get more info using the command `train_generator.class_indices`."
   ]
  },
  {
   "cell_type": "code",
   "execution_count": null,
   "metadata": {},
   "outputs": [],
   "source": [
    "train_generator.class_indices #Run this block of code; no need to edit"
   ]
  },
  {
   "cell_type": "markdown",
   "metadata": {},
   "source": [
    "Index 0 (the first column) represents `not_santa`, index 1 represents `santa`. Select one of the two columns and transpose the result such that you get a $1$ x $l$ and $1$ x $m$ vector respectively, and value `1` represents `santa`"
   ]
  },
  {
   "cell_type": "code",
   "execution_count": null,
   "metadata": {},
   "outputs": [],
   "source": [
    "train_labels_final = #Your code here"
   ]
  },
  {
   "cell_type": "code",
   "execution_count": null,
   "metadata": {},
   "outputs": [],
   "source": [
    "np.shape(train_labels_final) #Run this block of code; no need to edit"
   ]
  },
  {
   "cell_type": "code",
   "execution_count": null,
   "metadata": {},
   "outputs": [],
   "source": [
    "test_labels_final = #Your code here; same as above but for the test labels."
   ]
  },
  {
   "cell_type": "code",
   "execution_count": null,
   "metadata": {},
   "outputs": [],
   "source": [
    "np.shape(test_labels_final) #Run this block of code; no need to edit"
   ]
  },
  {
   "cell_type": "markdown",
   "metadata": {},
   "source": [
    "As a final sanity check, look at an image and the corresponding label, so we're sure that santa is indeed stored as `1`.\n",
    "\n",
    "- First, use `array_to_image` again on the original `train_images` with index 240 to look at this particular image.\n",
    "- Use train_labels_final to get the 240th label."
   ]
  },
  {
   "cell_type": "code",
   "execution_count": null,
   "metadata": {},
   "outputs": [],
   "source": [
    "#Your code here; preview train images 240"
   ]
  },
  {
   "cell_type": "code",
   "execution_count": null,
   "metadata": {},
   "outputs": [],
   "source": [
    "#Your code here; preview train labels 240"
   ]
  },
  {
   "cell_type": "markdown",
   "metadata": {},
   "source": [
    "This seems to be correct! Feel free to try out other indices as well."
   ]
  },
  {
   "cell_type": "markdown",
   "metadata": {},
   "source": [
    "## Lastly, you'll want to standardize the data"
   ]
  },
  {
   "cell_type": "markdown",
   "metadata": {},
   "source": [
    "Remember that each RGB pixel in an image takes a value between 0 and 255. In Deep Learning, it is very common to standardize and/or center your data set. For images, a common thing that is done is to make sure each pixel value is between 0 and 1. This can be done by dividing the entire matrix by 255. Do this here for the `train_img_unrow` and `test_img_unrow`."
   ]
  },
  {
   "cell_type": "code",
   "execution_count": null,
   "metadata": {},
   "outputs": [],
   "source": [
    "#Your code here"
   ]
  },
  {
   "cell_type": "markdown",
   "metadata": {},
   "source": [
    "In what follows, we'll work with `train_img_final`, `test_img_final`, `train_labels_final`, `test_labels_final`."
   ]
  },
  {
   "cell_type": "markdown",
   "metadata": {},
   "source": [
    "## Building a logistic regression-based neural network"
   ]
  },
  {
   "cell_type": "markdown",
   "metadata": {},
   "source": [
    "## Math recap"
   ]
  },
  {
   "cell_type": "markdown",
   "metadata": {},
   "source": [
    "Now we can go ahead and build our own basic logistic regression-based neural network to disctinguish images with Santa from images without Santa. You've seen in the lecture that logistic regression can actually be represented a a very simple neural network.\n",
    "\n",
    "Remember that we defined that, for each $x^{(i)}$:\n",
    "\n",
    "\n",
    "$$ \\mathcal{L}(\\hat y ^{(i)}, y^{(i)}) =  - \\big( y^{(i)} \\log(\\hat y^{(i)}) + (1-y^{(i)} )  \\log(1-\\hat y^{(i)})\\big)$$\n",
    "\n",
    "$$\\hat{y}^{(i)} = \\sigma(z^{(i)}) = \\frac{1}{1 + e^{-(z^{(i)})}}$$ \n",
    "\n",
    "$$z^{(i)} = w^T x^{(i)} + b$$\n",
    "\n",
    "The cost function is then given by:\n",
    "$$J(w,b) = \\dfrac{1}{l}\\displaystyle\\sum^l_{i=1}\\mathcal{L}(\\hat y^{(i)}, y^{(i)})$$"
   ]
  },
  {
   "cell_type": "markdown",
   "metadata": {},
   "source": [
    "In the remainder of this lab, you'll do the following:\n",
    "\n",
    "   - You'll learn how to initialize the parameters of the model\n",
    "   - You'll perform forward propagation, and calculate the current loss\n",
    "   - You'll perform backward propagation (which is basically calculating the current gradient)\n",
    "   - You'll update the parameters (gradient descent)"
   ]
  },
  {
   "cell_type": "markdown",
   "metadata": {},
   "source": [
    "## Parameter initialization"
   ]
  },
  {
   "cell_type": "markdown",
   "metadata": {},
   "source": [
    "$w$ and $b$ are the unknown parameters to start with. We'll initialize them as 0.\n",
    "- remember that $b$ is a scalar\n",
    "- $w$ however, is a vector of shape $n$ x $1$, with $n$ being `horiz_pixel x vertic_pixel x 3`"
   ]
  },
  {
   "cell_type": "markdown",
   "metadata": {},
   "source": [
    "## initialize b"
   ]
  },
  {
   "cell_type": "markdown",
   "metadata": {},
   "source": [
    " Initialize b as a scalar with value 0."
   ]
  },
  {
   "cell_type": "code",
   "execution_count": null,
   "metadata": {},
   "outputs": [],
   "source": [
    "#Your code here"
   ]
  },
  {
   "cell_type": "markdown",
   "metadata": {},
   "source": [
    "## Initialize w"
   ]
  },
  {
   "cell_type": "markdown",
   "metadata": {},
   "source": [
    "Create a function `init_w(n)` such that when n is filled out, you get a vector with zeros that has a shape $n$ x $1$."
   ]
  },
  {
   "cell_type": "code",
   "execution_count": null,
   "metadata": {},
   "outputs": [],
   "source": [
    "#Your code here; define your function"
   ]
  },
  {
   "cell_type": "code",
   "execution_count": null,
   "metadata": {},
   "outputs": [],
   "source": [
    "#Your code here; call your function using appropriate parameters"
   ]
  },
  {
   "cell_type": "markdown",
   "metadata": {},
   "source": [
    "## Forward propagation"
   ]
  },
  {
   "cell_type": "markdown",
   "metadata": {},
   "source": [
    "Forward Propagation:\n",
    "- You get `x`\n",
    "- You compute `y_hat`: \n",
    "$$ (\\hat y^{(1)}, \\hat y^{(2)}, \\ldots , \\hat y^{(l)})= \\sigma(w^T x + b) = \\Biggr(\\dfrac{1}{1+exp(w^T x^{(1)}+ b)},\\ldots, \\dfrac{1}{1+exp(w^T x^{(l)}+ b)}\\Biggr) $$\n",
    "- You calculate the `cost` function: $J(w,b) = -\\dfrac{1}{l}\\displaystyle\\sum_{i=1}^{l}y^{(i)}\\log(\\hat y^{(i)})+(1-y^{(i)})\\log(1-\\hat y^{(i)})$\n",
    "\n",
    "Here are the two formulas you will be using to compute the gradients. Don't be scared off by the mathematics. The long formulas are just to show that this corresponds with what we derived in the lectures!\n",
    "\n",
    "$$ \\frac{dJ(w,b)}{dw} = \\displaystyle\\frac{1}{l}\\displaystyle\\sum^l_{i=1} \\frac{d\\mathcal{L}(\\hat y^{(i)}, y^{(i)})}{dw}= \\displaystyle\\frac{1}{l}\\displaystyle\\sum^l_{i=1} x^{(i)} dz^{(i)}  = \\displaystyle\\frac{1}{l}\\displaystyle\\sum^l_{i=1} x^{(i)}(\\hat y^{(i)}-y^{(i)})  = \\frac{1}{l}x(\\hat y-y)^T$$\n",
    "\n",
    "$$ \\frac{dJ(w,b)}{db} = \\displaystyle\\frac{1}{l}\\displaystyle\\sum^l_{i=1} \\frac{d\\mathcal{L}(\\hat y^{(i)}, y^{(i)})}{db}= \\displaystyle\\frac{1}{l}\\displaystyle\\sum^l_{i=1} dz^{(i)}  = \\displaystyle\\frac{1}{l}\\displaystyle\\sum^l_{i=1} (\\hat y^{(i)}-y^{(i)})$$"
   ]
  },
  {
   "cell_type": "code",
   "execution_count": null,
   "metadata": {},
   "outputs": [],
   "source": [
    "#Your code here; define the propagation function"
   ]
  },
  {
   "cell_type": "code",
   "execution_count": null,
   "metadata": {},
   "outputs": [],
   "source": [
    "dw, db, cost = #Your code here; use your propogation function to return d2, db and the associated cost"
   ]
  },
  {
   "cell_type": "code",
   "execution_count": null,
   "metadata": {},
   "outputs": [],
   "source": [
    "print(dw)\n",
    "\n",
    "print(db)\n",
    "\n",
    "print(cost)"
   ]
  },
  {
   "cell_type": "markdown",
   "metadata": {},
   "source": [
    "## Optimization"
   ]
  },
  {
   "cell_type": "markdown",
   "metadata": {},
   "source": [
    "Next, in the optimization step, we have to update $w$ and $b$ as follows:\n",
    "\n",
    "$$w := w - \\alpha * dw$$\n",
    "$$b := b - \\alpha * db$$\n",
    "\n",
    "Note that this `optimization` function also takes in the propagation function. It loops over the `propagation` function in each iteration, and updates both $w$ and $b$ right after that! "
   ]
  },
  {
   "cell_type": "code",
   "execution_count": null,
   "metadata": {},
   "outputs": [],
   "source": [
    "#Complete the function below using your propogation function to define dw, db and cost. \n",
    "#Then use the formula above to update w and b in the optimization function.\n",
    "def optimization(w, b, x, y, num_iterations, learning_rate, print_cost = False):\n",
    "    \n",
    "    costs = []\n",
    "    \n",
    "    for i in range(num_iterations):\n",
    "        dw, db, cost = #Your code here\n",
    "        w = #Your code here\n",
    "        b = #Your code here\n",
    "        \n",
    "        # Record the costs and print them every 50 iterations\n",
    "        if i % 50 == 0:\n",
    "            costs.append(cost)\n",
    "        if print_cost and i % 50 == 0:\n",
    "            print (\"Cost after iteration %i: %f\" %(i, cost))\n",
    "    \n",
    "    return w, b, costs"
   ]
  },
  {
   "cell_type": "code",
   "execution_count": null,
   "metadata": {},
   "outputs": [],
   "source": [
    "#Run this block of code as is\n",
    "w, b, costs = optimization(w, b, train_img_final, train_labels_final, num_iterations= 151, learning_rate = 0.0001, print_cost = True)"
   ]
  },
  {
   "cell_type": "markdown",
   "metadata": {},
   "source": [
    "## Make label predictions: Santa or not?"
   ]
  },
  {
   "cell_type": "markdown",
   "metadata": {},
   "source": [
    "Next, let's create a function that makes label predictions. We'll later use this when we will look at our Santa pictures. What we want, is a label that is equal to 1 when the predicted $y$ is bigger than 0.5, and 0 otherwise."
   ]
  },
  {
   "cell_type": "code",
   "execution_count": null,
   "metadata": {},
   "outputs": [],
   "source": [
    "def prediction(w, b, x):\n",
    "    l = x.shape[1]\n",
    "    y_prediction = #Initialize a prediction vector\n",
    "    w = w.reshape(x.shape[0], 1)\n",
    "    y_hat = #Your code here; the sigmoid function given w, b and x\n",
    "    p = y_hat\n",
    "    \n",
    "    for i in range(y_hat.shape[1]):\n",
    "        #Transform the probability into a binary classification using 0.5 as the cutoff\n",
    "    return y_prediction"
   ]
  },
  {
   "cell_type": "markdown",
   "metadata": {},
   "source": [
    "Let's try this out on a small example. Make sure to have 4 predictions in your output here!"
   ]
  },
  {
   "cell_type": "code",
   "execution_count": null,
   "metadata": {},
   "outputs": [],
   "source": [
    "#Run this block of code as is\n",
    "w = np.array([[0.035],[0.123],[0.217]])\n",
    "b = 0.2\n",
    "x = np.array([[0.2,0.4,-1.2,-2],[1,-2.,0.1,-1],[0.2,0.4,-1.2,-2]])\n",
    "\n",
    "prediction(w,b,x)"
   ]
  },
  {
   "cell_type": "markdown",
   "metadata": {},
   "source": [
    "## The overall model"
   ]
  },
  {
   "cell_type": "markdown",
   "metadata": {},
   "source": [
    "Now, let's build the overall model!"
   ]
  },
  {
   "cell_type": "code",
   "execution_count": null,
   "metadata": {},
   "outputs": [],
   "source": [
    "#This code is provided to you as is, but should be carefully reviewed.\n",
    "def model(x_train, y_train, x_test, y_test, num_iterations = 2000, learning_rate = 0.5, print_cost = False):\n",
    "\n",
    "    b = 0\n",
    "    w = init_w(np.shape(x_train)[0]) \n",
    "\n",
    "    # Gradient descent (≈ 1 line of code)\n",
    "    w, b, costs = optimization(w, b, x_train, y_train, num_iterations, learning_rate, print_cost)\n",
    "    \n",
    "    y_pred_test = prediction(w, b, x_test)\n",
    "    y_pred_train = prediction(w, b, x_train)\n",
    "\n",
    "    # Print train/test Errors\n",
    "    print(\"train accuracy: {} %\".format(100 - np.mean(np.abs(y_pred_train - y_train)) * 100))\n",
    "    print(\"test accuracy: {} %\".format(100 - np.mean(np.abs(y_pred_test - y_test)) * 100))\n",
    "\n",
    "    output = {\"costs\": costs,\n",
    "         \"y_pred_test\": y_pred_test, \n",
    "         \"y_pred_train\" : y_pred_train, \n",
    "         \"w\" : w, \n",
    "         \"b\" : b,\n",
    "         \"learning_rate\" : learning_rate,\n",
    "         \"num_iterations\": num_iterations}\n",
    "    \n",
    "    return output"
   ]
  },
  {
   "cell_type": "code",
   "execution_count": null,
   "metadata": {},
   "outputs": [],
   "source": [
    "#Run the model!\n",
    "output = model(train_img_final, train_labels_final, test_img_final, test_img_final, num_iterations = 2000, learning_rate = 0.005, print_cost = True)"
   ]
  },
  {
   "cell_type": "markdown",
   "metadata": {},
   "source": [
    "## Summary\n",
    "\n",
    "Well done! In this lab you implemented your first neural network in order to identify images of Santa! In upcoming labs you'll see how to extend your neural networks to include a larger number of layers and how to then successively prune these complex schemas to improve test and train accuracies."
   ]
  }
 ],
 "metadata": {
  "kernelspec": {
   "display_name": "Python 3",
   "language": "python",
   "name": "python3"
  },
  "language_info": {
   "codemirror_mode": {
    "name": "ipython",
    "version": 3
   },
   "file_extension": ".py",
   "mimetype": "text/x-python",
   "name": "python",
   "nbconvert_exporter": "python",
   "pygments_lexer": "ipython3",
   "version": "3.6.6"
  }
 },
 "nbformat": 4,
 "nbformat_minor": 2
}
